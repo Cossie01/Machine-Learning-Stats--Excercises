{
 "cells": [
  {
   "cell_type": "markdown",
   "id": "0c342189",
   "metadata": {},
   "source": [
    "### Excercise 1.1\n",
    "\n",
    "---\n",
    "\n",
    "The above gives about a 1.5% chance of randomly selecting the correct cups. Calculate the minimum number of cups of tea required to ensure the probability of randomly selecting the correct cups is less than or equal to 1%.\n"
   ]
  },
  {
   "cell_type": "markdown",
   "id": "c5426f8d",
   "metadata": {},
   "source": [
    "The following is adapted from: https://stackoverflow.com/a/4941932"
   ]
  },
  {
   "cell_type": "code",
   "execution_count": 11,
   "id": "e9fa0ad4",
   "metadata": {},
   "outputs": [],
   "source": [
    "#Math Module\n",
    "import math"
   ]
  },
  {
   "cell_type": "code",
   "execution_count": 12,
   "id": "a9e20cc4",
   "metadata": {},
   "outputs": [
    {
     "data": {
      "text/plain": [
       "70"
      ]
     },
     "execution_count": 12,
     "metadata": {},
     "output_type": "execute_result"
    }
   ],
   "source": [
    "#No of ways selecting 4 cups from 8\n",
    "math.comb(8,4)"
   ]
  },
  {
   "cell_type": "code",
   "execution_count": 13,
   "id": "bb823ee8",
   "metadata": {},
   "outputs": [
    {
     "data": {
      "text/plain": [
       "252"
      ]
     },
     "execution_count": 13,
     "metadata": {},
     "output_type": "execute_result"
    }
   ],
   "source": [
    "#No of ways selecting 5 cups from 10\n",
    "math.comb(10,5)"
   ]
  },
  {
   "cell_type": "markdown",
   "id": "6bf8eace",
   "metadata": {},
   "source": [
    "*As you can see from above there are 252 possible outcomes*"
   ]
  },
  {
   "cell_type": "code",
   "execution_count": 14,
   "id": "279fbf39",
   "metadata": {},
   "outputs": [
    {
     "data": {
      "text/plain": [
       "0.003968253968253968"
      ]
     },
     "execution_count": 14,
     "metadata": {},
     "output_type": "execute_result"
    }
   ],
   "source": [
    "#Probability of randomoly selecting correct 5 cups is:\n",
    "1.0 / math.comb(10,5)"
   ]
  },
  {
   "cell_type": "markdown",
   "id": "83e88868",
   "metadata": {},
   "source": [
    "So if the experiment is done with 10 cups, five with milk first and five with tea first, then selecting correctly randomly is less than 1%"
   ]
  },
  {
   "cell_type": "code",
   "execution_count": 15,
   "id": "7ef0af30",
   "metadata": {},
   "outputs": [
    {
     "data": {
      "text/plain": [
       "924"
      ]
     },
     "execution_count": 15,
     "metadata": {},
     "output_type": "execute_result"
    }
   ],
   "source": [
    "#No of ways selecting 6 cups from 12\n",
    "math.comb(12,6)"
   ]
  },
  {
   "cell_type": "code",
   "execution_count": 16,
   "id": "5c691822",
   "metadata": {},
   "outputs": [
    {
     "data": {
      "text/plain": [
       "0.0010822510822510823"
      ]
     },
     "execution_count": 16,
     "metadata": {},
     "output_type": "execute_result"
    }
   ],
   "source": [
    "#Probability of randomoly selecting correct 6 cups is:\n",
    "1.0 / math.comb(12,6)"
   ]
  },
  {
   "cell_type": "markdown",
   "id": "4c93dd7a",
   "metadata": {},
   "source": [
    "This too is also less than 1%"
   ]
  },
  {
   "cell_type": "markdown",
   "id": "2129e2b0",
   "metadata": {},
   "source": [
    "Bonus: How many would be required if you were to let the taster get one cup wrong while maintaining the 1% threshold?"
   ]
  },
  {
   "cell_type": "markdown",
   "id": "5e2c0239",
   "metadata": {},
   "source": [
    "### Excercise 1.2\n",
    "\n",
    "---\n",
    "\n",
    "Use scipy's version of Fisher's exact test to simulate the Lady Tasting Tea problem."
   ]
  },
  {
   "cell_type": "code",
   "execution_count": 18,
   "id": "f7cf4edf",
   "metadata": {},
   "outputs": [],
   "source": [
    "#import the relevant packages\n",
    "import scipy.stats as ss"
   ]
  },
  {
   "cell_type": "markdown",
   "id": "b92c3ee3",
   "metadata": {},
   "source": [
    "Code was taken and adapted from: https://towardsdatascience.com/fishers-exact-test-from-scratch-with-python-2b907f29e593"
   ]
  },
  {
   "cell_type": "code",
   "execution_count": null,
   "id": "7ea1c7c7",
   "metadata": {},
   "outputs": [],
   "source": []
  },
  {
   "cell_type": "markdown",
   "id": "ec195aef",
   "metadata": {},
   "source": [
    "### Excercise 2.1\n",
    "\n",
    "---\n",
    "Take the code from the Examples section of the scipy stats documentation for independent samples t-tests, add it to your own notebook and add explain how it works using MarkDown cells and code comments. Improve it in any way you think it could be improved."
   ]
  }
 ],
 "metadata": {
  "kernelspec": {
   "display_name": "Python 3",
   "language": "python",
   "name": "python3"
  },
  "language_info": {
   "codemirror_mode": {
    "name": "ipython",
    "version": 3
   },
   "file_extension": ".py",
   "mimetype": "text/x-python",
   "name": "python",
   "nbconvert_exporter": "python",
   "pygments_lexer": "ipython3",
   "version": "3.8.8"
  }
 },
 "nbformat": 4,
 "nbformat_minor": 5
}
