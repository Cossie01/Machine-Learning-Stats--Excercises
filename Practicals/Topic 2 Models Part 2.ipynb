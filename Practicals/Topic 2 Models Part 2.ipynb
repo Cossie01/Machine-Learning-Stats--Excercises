{
 "cells": [
  {
   "cell_type": "markdown",
   "id": "686e3527",
   "metadata": {},
   "source": [
    "## Topic 2: Models - Part 2\n",
    "\n",
    "---"
   ]
  },
  {
   "cell_type": "code",
   "execution_count": 1,
   "id": "82d1dad3",
   "metadata": {},
   "outputs": [],
   "source": [
    "#Optimization.\n",
    "import scipy.optimize as so\n",
    "\n",
    "#This is the link to scipy function https://docs.scipy.org/doc/scipy/reference/generated/scipy.optimize.minimize.html#scipy.optimize.minimize\n",
    "\n",
    "import numpy as np #import the correct packages\n",
    "import matplotlib.pyplot as plt"
   ]
  },
  {
   "cell_type": "code",
   "execution_count": 2,
   "id": "63eec4e9",
   "metadata": {},
   "outputs": [
    {
     "data": {
      "text/plain": [
       "(array([ 0.,  1.,  2.,  3.,  4.,  5.,  6.,  7.,  8.,  9., 10., 11., 12.,\n",
       "        13., 14., 15., 16., 17., 18., 19., 20.]),\n",
       " array([ 10.69678712,  19.94141001,  20.11617787,  21.83114968,\n",
       "         22.40339887,  35.15341172,  37.01863373,  47.46647762,\n",
       "         48.30593796,  53.65732908,  64.23523976,  67.70350323,\n",
       "         74.69431243,  73.29179142,  76.95272147,  95.34126955,\n",
       "         83.2656441 , 106.04420424, 109.82492524,  97.9240995 ,\n",
       "        111.22347816]))"
      ]
     },
     "execution_count": 2,
     "metadata": {},
     "output_type": "execute_result"
    }
   ],
   "source": [
    "x = np.arange(0.0, 21.0, 1.0) #setting up the x values\n",
    "\n",
    "y = 5.0 * x + 10.0 + np.random.normal(0.0, 5.0, x.size) #setting up the y values\n",
    "\n",
    "x, y #calling them"
   ]
  },
  {
   "cell_type": "code",
   "execution_count": 3,
   "id": "904431c3",
   "metadata": {},
   "outputs": [],
   "source": [
    "#We need to minimize the cost function. \n",
    "#The scipy function needs one argument but we have two values (m, c) so we create a new list called MC. \n",
    "\n",
    "\n",
    "def cost(MC):\n",
    "  \n",
    "    m, c = MC\n",
    "    \n",
    "    cost = np.sum((y - m * x - c)**2) #from the formula Big sigma = sum, x and y are fixed values. \n",
    "    \n",
    "    return cost # Return that value."
   ]
  },
  {
   "cell_type": "code",
   "execution_count": 4,
   "id": "1d4bc233",
   "metadata": {},
   "outputs": [
    {
     "data": {
      "text/plain": [
       "594.1836196834176"
      ]
     },
     "execution_count": 4,
     "metadata": {},
     "output_type": "execute_result"
    }
   ],
   "source": [
    "cost((5.0, 10.0)) #check the values for cost"
   ]
  },
  {
   "cell_type": "code",
   "execution_count": 5,
   "id": "4c1dbf12",
   "metadata": {},
   "outputs": [
    {
     "data": {
      "text/plain": [
       "      fun: 556.8064683010634\n",
       " hess_inv: array([[ 0.00064975, -0.0064989 ],\n",
       "       [-0.0064989 ,  0.08881708]])\n",
       "      jac: array([0., 0.])\n",
       "  message: 'Optimization terminated successfully.'\n",
       "     nfev: 24\n",
       "      nit: 7\n",
       "     njev: 8\n",
       "   status: 0\n",
       "  success: True\n",
       "        x: array([5.17457196, 9.06818059])"
      ]
     },
     "execution_count": 5,
     "metadata": {},
     "output_type": "execute_result"
    }
   ],
   "source": [
    "result = so.minimize(cost, (2.0, 2.0)) #we need to add two guesses so we choose 2 for m and 2 for c\n",
    "\n",
    "result #calling the results"
   ]
  },
  {
   "cell_type": "markdown",
   "id": "fe8d9bb8",
   "metadata": {},
   "source": [
    "###### The min number is fun: \n"
   ]
  },
  {
   "cell_type": "code",
   "execution_count": 6,
   "id": "23344abc",
   "metadata": {},
   "outputs": [
    {
     "data": {
      "text/plain": [
       "(5.174571964098474, 9.068180587238794)"
      ]
     },
     "execution_count": 6,
     "metadata": {},
     "output_type": "execute_result"
    }
   ],
   "source": [
    "m_o, c_o = result.x #m optimized and c optimixed values\n",
    "\n",
    "m_o, c_o #calling the m_o, c_o"
   ]
  },
  {
   "cell_type": "code",
   "execution_count": 7,
   "id": "bbd05308",
   "metadata": {},
   "outputs": [
    {
     "data": {
      "text/plain": [
       "(5.174572016452179, 9.068179967050986)"
      ]
     },
     "execution_count": 7,
     "metadata": {},
     "output_type": "execute_result"
    }
   ],
   "source": [
    "m_a, c_a = np.polyfit(x, y, 1) #Here is the previous analytical result from part 1 calling them m_a and c_a\n",
    "\n",
    "m_a, c_a #calling the m_a, c_a"
   ]
  },
  {
   "cell_type": "code",
   "execution_count": 8,
   "id": "2916bcbc",
   "metadata": {},
   "outputs": [
    {
     "data": {
      "image/png": "[encoded data removed]",
      "text/plain": [
       "<Figure size 576x432 with 1 Axes>"
      ]
     },
     "metadata": {
      "needs_background": "light"
     },
     "output_type": "display_data"
    }
   ],
   "source": [
    "fig, ax = plt.subplots(figsize=(8, 6)) #setting the size of the plot\n",
    "ax.plot(x, y, 'k.', label='Original data') #setting up the orignal data\n",
    "ax.plot(x, m_o * x + c_o, 'b-', label='Optimized line') #setting up the opt line\n",
    "ax.plot(x, m_a * x + c_a, 'g-', label='Analytical line')#setting up the analy line\n",
    "ax.legend() #create a legend for both opt and analy line\n",
    "\n",
    "\n",
    "plt.show() #Show the plot."
   ]
  },
  {
   "cell_type": "markdown",
   "id": "0dcf4ca7",
   "metadata": {},
   "source": [
    "##### The Blue and Green line are identical so you cant see the blue line. Therefore the Optimized line is equal to the Analytical line and vice versa. "
   ]
  },
  {
   "cell_type": "markdown",
   "id": "8bd7d7a7",
   "metadata": {},
   "source": [
    "## Curve Fitting \n",
    "\n",
    "---"
   ]
  },
  {
   "cell_type": "code",
   "execution_count": 9,
   "id": "edfef136",
   "metadata": {},
   "outputs": [],
   "source": [
    "#https://docs.scipy.org/doc/scipy/reference/generated/scipy.optimize.curve_fit.html\n",
    "\n",
    "def f(x, m, c): # Setting up the model function. \n",
    "    return m * x + c"
   ]
  },
  {
   "cell_type": "code",
   "execution_count": 10,
   "id": "4943c1c0",
   "metadata": {},
   "outputs": [],
   "source": [
    "result = so.curve_fit(f, x, y) #setting up the curve fit for f, x, y"
   ]
  },
  {
   "cell_type": "code",
   "execution_count": 11,
   "id": "0977ec56",
   "metadata": {},
   "outputs": [
    {
     "data": {
      "text/plain": [
       "(array([5.17457202, 9.06817997]),\n",
       " array([[ 0.03805923, -0.38059226],\n",
       "        [-0.38059226,  5.20142757]]))"
      ]
     },
     "execution_count": 11,
     "metadata": {},
     "output_type": "execute_result"
    }
   ],
   "source": [
    "result #calling the results"
   ]
  },
  {
   "cell_type": "code",
   "execution_count": 12,
   "id": "89d585bb",
   "metadata": {},
   "outputs": [
    {
     "data": {
      "text/plain": [
       "(5.174572016183865, 9.068179970717939)"
      ]
     },
     "execution_count": 12,
     "metadata": {},
     "output_type": "execute_result"
    }
   ],
   "source": [
    "m_f, c_f = result[0] #setting up the parameters\n",
    "\n",
    "m_f, c_f #calling the new m and c "
   ]
  },
  {
   "cell_type": "code",
   "execution_count": 13,
   "id": "3e55bf04",
   "metadata": {},
   "outputs": [
    {
     "data": {
      "image/png": "[encoded data removed]",
      "text/plain": [
       "<Figure size 576x432 with 1 Axes>"
      ]
     },
     "metadata": {
      "needs_background": "light"
     },
     "output_type": "display_data"
    }
   ],
   "source": [
    "fig, ax = plt.subplots(figsize=(8, 6)) #setting up the fig size\n",
    "ax.plot(x, y, 'k.', label='Original data')\n",
    "ax.plot(x, m_f * x + c_f, 'r-', label='Curve Fit line') #red line\n",
    "ax.plot(x, m_a * x + c_a, 'g-', label='Analytical line') #green line\n",
    "ax.legend()\n",
    "\n",
    "\n",
    "plt.show() #requesting the plot"
   ]
  },
  {
   "cell_type": "markdown",
   "id": "867a434a",
   "metadata": {},
   "source": [
    "#### Both the red and green lines are again identical. "
   ]
  },
  {
   "cell_type": "markdown",
   "id": "b50182bb",
   "metadata": {},
   "source": [
    "## Excercise 2 \n",
    "\n",
    "\n",
    "#### Fit a straight line to the following data points, using all three methods used above.\n",
    "\n",
    "#### Do you think a straight line is a good model for these points?\n",
    "\n",
    "\n",
    "---"
   ]
  },
  {
   "cell_type": "code",
   "execution_count": 14,
   "id": "e7558dbb",
   "metadata": {},
   "outputs": [],
   "source": [
    "x = [2.0, 3.0, 4.0, 5.0, 6.0, 7.0, 8.0, 9.0, 10.0, 11.0, 12.0, 13.0, 14.0, 15.0, 16.0, 17.0, 18.0, 19.0, 20.0]\n",
    "y = [0.7, 1.1, 1.5, 1.6, 1.7, 2.0, 2.3, 2.4, 2.2, 2.1, 2.4, 2.6, 2.2, 2.7, 2.5, 2.7, 2.8, 2.9, 3.1]"
   ]
  },
  {
   "cell_type": "code",
   "execution_count": 15,
   "id": "0767e831",
   "metadata": {},
   "outputs": [
    {
     "data": {
      "image/png": "[encoded data removed]",
      "text/plain": [
       "<Figure size 432x288 with 1 Axes>"
      ]
     },
     "metadata": {
      "needs_background": "light"
     },
     "output_type": "display_data"
    }
   ],
   "source": [
    "plt.plot(x, y, 'k.', label=\"Data\")\n",
    "plt.plot(x, y, 'r-', label=r\"Redline\")\n",
    "\n",
    "plt.legend()\n",
    "\n",
    "plt.xlabel('X label')\n",
    "plt.ylabel('Y label')\n",
    "\n",
    "plt.show()"
   ]
  },
  {
   "cell_type": "markdown",
   "id": "0aa71df1",
   "metadata": {},
   "source": [
    "## First Method: Best Fit Model\n",
    "\n",
    "---"
   ]
  },
  {
   "cell_type": "code",
   "execution_count": 16,
   "id": "d487cf7e",
   "metadata": {},
   "outputs": [],
   "source": [
    "#Changing List to a numpy array for x and y\n",
    "x = np.array(x)\n",
    "y = np.array(y)"
   ]
  },
  {
   "cell_type": "code",
   "execution_count": 17,
   "id": "8cf0c482",
   "metadata": {},
   "outputs": [
    {
     "name": "stdout",
     "output_type": "stream",
     "text": [
      "m is 0.103158 and c is 1.049474.\n"
     ]
    }
   ],
   "source": [
    "# Calculate the best values for m and c.\n",
    "\n",
    "# First calculate the means (a.k.a. averages) of w and d.\n",
    "x_avg = np.mean(x)\n",
    "y_avg = np.mean(y)\n",
    "\n",
    "# Subtract means from w and d.\n",
    "x_zero = x - x_avg\n",
    "y_zero = y - y_avg\n",
    "\n",
    "# The best m is found by the following calculation.\n",
    "m = np.sum(x_zero * y_zero) / np.sum(x_zero * x_zero)\n",
    "# Use m from above to calculate the best c.\n",
    "c = y_avg - m * x_avg\n",
    "\n",
    "print(\"m is %8.6f and c is %6.6f.\" % (m, c))"
   ]
  },
  {
   "cell_type": "code",
   "execution_count": 18,
   "id": "2c3518d1",
   "metadata": {},
   "outputs": [
    {
     "data": {
      "text/plain": [
       "array([0.10315789, 1.04947368])"
      ]
     },
     "execution_count": 18,
     "metadata": {},
     "output_type": "execute_result"
    }
   ],
   "source": [
    "np.polyfit(x, y, 1)\n"
   ]
  },
  {
   "cell_type": "code",
   "execution_count": 19,
   "id": "23113dc9",
   "metadata": {},
   "outputs": [
    {
     "name": "stdout",
     "output_type": "stream",
     "text": [
      "<class 'numpy.ndarray'>\n"
     ]
    }
   ],
   "source": [
    "print(type(x))"
   ]
  },
  {
   "cell_type": "code",
   "execution_count": 20,
   "id": "37595461",
   "metadata": {},
   "outputs": [
    {
     "data": {
      "image/png": "[encoded data removed]",
      "text/plain": [
       "<Figure size 432x288 with 1 Axes>"
      ]
     },
     "metadata": {
      "needs_background": "light"
     },
     "output_type": "display_data"
    }
   ],
   "source": [
    "# Plot the best fit line.\n",
    "plt.plot(x, y, 'k.', label='Original data')\n",
    "plt.plot(x, m * x + c, 'b-', label='Best fit line')\n",
    "plt.plot(x, y, 'r-', label=r\"Redline\")\n",
    "\n",
    "# Add axis labels and a legend.\n",
    "plt.xlabel('X Label')\n",
    "plt.ylabel('Y label')\n",
    "plt.legend()\n",
    "\n",
    "# Show the plot.\n",
    "plt.show()"
   ]
  },
  {
   "cell_type": "markdown",
   "id": "e91ac8d8",
   "metadata": {},
   "source": [
    "## Second Method: Optimisation Model\n",
    "\n",
    "---"
   ]
  },
  {
   "cell_type": "code",
   "execution_count": 21,
   "id": "9273df54",
   "metadata": {},
   "outputs": [],
   "source": [
    "def cost(MC):\n",
    "    m, c = MC\n",
    "    cost = np.sum((y - m * x - c)**2)\n",
    "    return cost"
   ]
  },
  {
   "cell_type": "code",
   "execution_count": 22,
   "id": "b185a01e",
   "metadata": {},
   "outputs": [
    {
     "data": {
      "text/plain": [
       "88639.75"
      ]
     },
     "execution_count": 22,
     "metadata": {},
     "output_type": "execute_result"
    }
   ],
   "source": [
    "cost((5.0,10.0))"
   ]
  },
  {
   "cell_type": "code",
   "execution_count": 23,
   "id": "257b1d09",
   "metadata": {},
   "outputs": [
    {
     "data": {
      "text/plain": [
       "      fun: 1.03957894736911\n",
       " hess_inv: array([[ 0.00087719, -0.00964912],\n",
       "       [-0.00964912,  0.13245614]])\n",
       "      jac: array([1.49011612e-08, 0.00000000e+00])\n",
       "  message: 'Optimization terminated successfully.'\n",
       "     nfev: 21\n",
       "      nit: 5\n",
       "     njev: 7\n",
       "   status: 0\n",
       "  success: True\n",
       "        x: array([0.10315786, 1.04947406])"
      ]
     },
     "execution_count": 23,
     "metadata": {},
     "output_type": "execute_result"
    }
   ],
   "source": [
    "result = so.minimize(cost, (2.0, 2.0))\n",
    "result"
   ]
  },
  {
   "cell_type": "code",
   "execution_count": 24,
   "id": "eab8766f",
   "metadata": {},
   "outputs": [
    {
     "data": {
      "text/plain": [
       "(0.10315785999003411, 1.0494740589312146)"
      ]
     },
     "execution_count": 24,
     "metadata": {},
     "output_type": "execute_result"
    }
   ],
   "source": [
    "m_o, c_o = result.x\n",
    "m_o, c_o"
   ]
  },
  {
   "cell_type": "code",
   "execution_count": 25,
   "id": "2aafb21b",
   "metadata": {},
   "outputs": [
    {
     "data": {
      "text/plain": [
       "(0.10315789473684217, 1.0494736842105254)"
      ]
     },
     "execution_count": 25,
     "metadata": {},
     "output_type": "execute_result"
    }
   ],
   "source": [
    "m_a, c_a = np.polyfit(x, y, 1)\n",
    "\n",
    "m_a, c_a"
   ]
  },
  {
   "cell_type": "code",
   "execution_count": 26,
   "id": "976b27ee",
   "metadata": {},
   "outputs": [
    {
     "data": {
      "image/png": "[encoded data removed]",
      "text/plain": [
       "<Figure size 576x432 with 1 Axes>"
      ]
     },
     "metadata": {
      "needs_background": "light"
     },
     "output_type": "display_data"
    }
   ],
   "source": [
    "# Plot the best fit line from the optimization.\n",
    "fig, ax = plt.subplots(figsize=(8, 6))\n",
    "ax.plot(x, y, 'k.', label='Original data')\n",
    "ax.plot(x, m_o * x + c_o, 'b-', label='Optimized line')\n",
    "ax.plot(x, m_a * x + c_a, 'm-', label='Analytical line')\n",
    "plt.plot(x, m * x + c, 'g-', label='Best fit line')\n",
    "plt.plot(x, y, 'r-', label=r\"Redline\")\n",
    "ax.legend()\n",
    "\n",
    "# Show the plot.\n",
    "plt.show()"
   ]
  },
  {
   "cell_type": "markdown",
   "id": "a8ef3234",
   "metadata": {},
   "source": [
    "## Third Method: Curve Fitting Model\n",
    "\n",
    "---"
   ]
  },
  {
   "cell_type": "code",
   "execution_count": 27,
   "id": "d7ac144a",
   "metadata": {},
   "outputs": [],
   "source": [
    "def f(x, m, c):\n",
    "    return m * x + c"
   ]
  },
  {
   "cell_type": "code",
   "execution_count": 28,
   "id": "ea2376eb",
   "metadata": {},
   "outputs": [],
   "source": [
    "result = so.curve_fit(f, x, y)"
   ]
  },
  {
   "cell_type": "code",
   "execution_count": 29,
   "id": "4b22e5de",
   "metadata": {},
   "outputs": [
    {
     "data": {
      "text/plain": [
       "(array([0.10315789, 1.04947369]),\n",
       " array([[ 0.00010728, -0.00118012],\n",
       "        [-0.00118012,  0.01619984]]))"
      ]
     },
     "execution_count": 29,
     "metadata": {},
     "output_type": "execute_result"
    }
   ],
   "source": [
    "result"
   ]
  },
  {
   "cell_type": "code",
   "execution_count": 30,
   "id": "e39ceadf",
   "metadata": {},
   "outputs": [
    {
     "data": {
      "text/plain": [
       "(0.10315789458399933, 1.0494736859688867)"
      ]
     },
     "execution_count": 30,
     "metadata": {},
     "output_type": "execute_result"
    }
   ],
   "source": [
    "m_f, c_f = result[0]\n",
    "\n",
    "m_f, c_f"
   ]
  },
  {
   "cell_type": "code",
   "execution_count": 31,
   "id": "ed037f66",
   "metadata": {},
   "outputs": [
    {
     "data": {
      "image/png": "[encoded data removed]",
      "text/plain": [
       "<Figure size 576x432 with 1 Axes>"
      ]
     },
     "metadata": {
      "needs_background": "light"
     },
     "output_type": "display_data"
    }
   ],
   "source": [
    "# Plot the best fit line from the optimization.\n",
    "fig, ax = plt.subplots(figsize=(8, 6))\n",
    "ax.plot(x, y, 'k.', label='Original data')\n",
    "ax.plot(x, m_f * x + c_f, 'y-', label='Curve Fit line')\n",
    "ax.plot(x, m_a * x + c_a, 'g-', label='Analytical line')\n",
    "ax.plot(x, m_o * x + c_o, 'b-', label='Optimized line')\n",
    "plt.plot(x, m * x + c, 'm-', label='Best fit line')\n",
    "plt.plot(x, y, 'r-', label=r\"Redline\")\n",
    "ax.legend()\n",
    "\n",
    "# Show the plot.\n",
    "plt.show()"
   ]
  },
  {
   "cell_type": "markdown",
   "id": "944e1fd4",
   "metadata": {},
   "source": [
    "## *Do you think a straight line is a good model for these points?*\n",
    "\n",
    "#### No I wouldnt use a straight line for these data points as they vary to much above and below the line. The cost would be high for these data points. "
   ]
  },
  {
   "cell_type": "code",
   "execution_count": null,
   "id": "839c509d",
   "metadata": {},
   "outputs": [],
   "source": []
  }
 ],
 "metadata": {
  "kernelspec": {
   "display_name": "Python 3",
   "language": "python",
   "name": "python3"
  },
  "language_info": {
   "codemirror_mode": {
    "name": "ipython",
    "version": 3
   },
   "file_extension": ".py",
   "mimetype": "text/x-python",
   "name": "python",
   "nbconvert_exporter": "python",
   "pygments_lexer": "ipython3",
   "version": "3.8.8"
  }
 },
 "nbformat": 4,
 "nbformat_minor": 5
}
