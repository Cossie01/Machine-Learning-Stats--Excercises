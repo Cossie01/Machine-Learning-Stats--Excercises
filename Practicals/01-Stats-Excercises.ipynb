{
 "cells": [
  {
   "cell_type": "markdown",
   "id": "9eb20475",
   "metadata": {},
   "source": [
    "### Excercise 1.1\n",
    "\n",
    "---\n",
    "\n",
    "The above gives about a 1.5% chance of randomly selecting the correct cups. Calculate the minimum number of cups of tea required to ensure the probability of randomly selecting the correct cups is less than or equal to 1%.\n"
   ]
  },
  {
   "cell_type": "markdown",
   "id": "2f1b496e",
   "metadata": {},
   "source": [
    "The following is adapted from: https://stackoverflow.com/a/4941932"
   ]
  },
  {
   "cell_type": "code",
   "execution_count": 14,
   "id": "af59e06e",
   "metadata": {},
   "outputs": [],
   "source": [
    "#Math Module\n",
    "import math"
   ]
  },
  {
   "cell_type": "code",
   "execution_count": 15,
   "id": "7788a86c",
   "metadata": {},
   "outputs": [
    {
     "data": {
      "text/plain": [
       "70"
      ]
     },
     "execution_count": 15,
     "metadata": {},
     "output_type": "execute_result"
    }
   ],
   "source": [
    "#No of ways selecting 4 cups from 8\n",
    "math.comb(8,4)"
   ]
  },
  {
   "cell_type": "code",
   "execution_count": 16,
   "id": "eccda45a",
   "metadata": {},
   "outputs": [
    {
     "data": {
      "text/plain": [
       "252"
      ]
     },
     "execution_count": 16,
     "metadata": {},
     "output_type": "execute_result"
    }
   ],
   "source": [
    "#No of ways selecting 5 cups from 10\n",
    "math.comb(10,5)"
   ]
  },
  {
   "cell_type": "markdown",
   "id": "2bc6d349",
   "metadata": {},
   "source": [
    "*As you can see from above there are 252 possible outcomes*"
   ]
  },
  {
   "cell_type": "code",
   "execution_count": 17,
   "id": "68644235",
   "metadata": {},
   "outputs": [
    {
     "data": {
      "text/plain": [
       "0.003968253968253968"
      ]
     },
     "execution_count": 17,
     "metadata": {},
     "output_type": "execute_result"
    }
   ],
   "source": [
    "#Probability of randomoly selecting correct 5 cups is:\n",
    "1.0 / math.comb(10,5)"
   ]
  },
  {
   "cell_type": "markdown",
   "id": "0dc88a1f",
   "metadata": {},
   "source": [
    "So if the experiment is done with 10 cups, five with milk first and five with tea first, then selecting correctly randomly is less than 1%"
   ]
  },
  {
   "cell_type": "code",
   "execution_count": 18,
   "id": "dd02f662",
   "metadata": {},
   "outputs": [
    {
     "data": {
      "text/plain": [
       "924"
      ]
     },
     "execution_count": 18,
     "metadata": {},
     "output_type": "execute_result"
    }
   ],
   "source": [
    "#No of ways selecting 6 cups from 12\n",
    "math.comb(12,6)"
   ]
  },
  {
   "cell_type": "code",
   "execution_count": 19,
   "id": "6da3694a",
   "metadata": {},
   "outputs": [
    {
     "data": {
      "text/plain": [
       "0.0010822510822510823"
      ]
     },
     "execution_count": 19,
     "metadata": {},
     "output_type": "execute_result"
    }
   ],
   "source": [
    "#Probability of randomoly selecting correct 6 cups is:\n",
    "1.0 / math.comb(12,6)"
   ]
  },
  {
   "cell_type": "markdown",
   "id": "fdbf0872",
   "metadata": {},
   "source": [
    "This too is also less than 1%"
   ]
  },
  {
   "cell_type": "markdown",
   "id": "b34d29ea",
   "metadata": {},
   "source": [
    "Bonus: How many would be required if you were to let the taster get one cup wrong while maintaining the 1% threshold?"
   ]
  },
  {
   "cell_type": "code",
   "execution_count": null,
   "id": "12ab260f",
   "metadata": {},
   "outputs": [],
   "source": []
  },
  {
   "cell_type": "markdown",
   "id": "617bcf64",
   "metadata": {},
   "source": [
    "### Excercise 1.2\n",
    "\n",
    "---\n",
    "\n",
    "Use scipy's version of Fisher's exact test to simulate the Lady Tasting Tea problem."
   ]
  },
  {
   "cell_type": "code",
   "execution_count": 20,
   "id": "ae3f3262",
   "metadata": {},
   "outputs": [],
   "source": [
    "#import the relevant packages\n",
    "import scipy.stats as ss\n",
    "import numpy as np\n",
    "import pandas as pd\n",
    "import scipy\n",
    "import scipy.special"
   ]
  },
  {
   "cell_type": "markdown",
   "id": "73bd17e6",
   "metadata": {},
   "source": [
    "Code was taken and adapted from: https://towardsdatascience.com/fishers-exact-test-from-scratch-with-python-2b907f29e593"
   ]
  },
  {
   "cell_type": "code",
   "execution_count": 21,
   "id": "ff1914a0",
   "metadata": {},
   "outputs": [
    {
     "data": {
      "text/html": [
       "<div>\n",
       "<style scoped>\n",
       "    .dataframe tbody tr th:only-of-type {\n",
       "        vertical-align: middle;\n",
       "    }\n",
       "\n",
       "    .dataframe tbody tr th {\n",
       "        vertical-align: top;\n",
       "    }\n",
       "\n",
       "    .dataframe thead th {\n",
       "        text-align: right;\n",
       "    }\n",
       "</style>\n",
       "<table border=\"1\" class=\"dataframe\">\n",
       "  <thead>\n",
       "    <tr style=\"text-align: right;\">\n",
       "      <th></th>\n",
       "      <th>Guess Milk</th>\n",
       "      <th>Guess Tea</th>\n",
       "    </tr>\n",
       "  </thead>\n",
       "  <tbody>\n",
       "    <tr>\n",
       "      <th>Milk</th>\n",
       "      <td>4.0</td>\n",
       "      <td>0.0</td>\n",
       "    </tr>\n",
       "    <tr>\n",
       "      <th>Tea</th>\n",
       "      <td>0.0</td>\n",
       "      <td>4.0</td>\n",
       "    </tr>\n",
       "  </tbody>\n",
       "</table>\n",
       "</div>"
      ],
      "text/plain": [
       "      Guess Milk  Guess Tea\n",
       "Milk         4.0        0.0\n",
       "Tea          0.0        4.0"
      ]
     },
     "execution_count": 21,
     "metadata": {},
     "output_type": "execute_result"
    }
   ],
   "source": [
    "ar=np.array([[4.0, 0.0],[0.0, 4.0]])    \n",
    "df=pd.DataFrame(ar, columns=[\"Guess Milk\", \"Guess Tea\"])\n",
    "df.index=[\"Milk\", \"Tea\"] \n",
    "df "
   ]
  },
  {
   "cell_type": "code",
   "execution_count": 22,
   "id": "0995ffd3",
   "metadata": {},
   "outputs": [
    {
     "data": {
      "text/html": [
       "<div>\n",
       "<style scoped>\n",
       "    .dataframe tbody tr th:only-of-type {\n",
       "        vertical-align: middle;\n",
       "    }\n",
       "\n",
       "    .dataframe tbody tr th {\n",
       "        vertical-align: top;\n",
       "    }\n",
       "\n",
       "    .dataframe thead th {\n",
       "        text-align: right;\n",
       "    }\n",
       "</style>\n",
       "<table border=\"1\" class=\"dataframe\">\n",
       "  <thead>\n",
       "    <tr style=\"text-align: right;\">\n",
       "      <th></th>\n",
       "      <th>Guess Milk</th>\n",
       "      <th>Guess Tea</th>\n",
       "      <th>Row Total</th>\n",
       "    </tr>\n",
       "  </thead>\n",
       "  <tbody>\n",
       "    <tr>\n",
       "      <th>Milk</th>\n",
       "      <td>4.0</td>\n",
       "      <td>0.0</td>\n",
       "      <td>4.0</td>\n",
       "    </tr>\n",
       "    <tr>\n",
       "      <th>Tea</th>\n",
       "      <td>0.0</td>\n",
       "      <td>4.0</td>\n",
       "      <td>4.0</td>\n",
       "    </tr>\n",
       "    <tr>\n",
       "      <th>Column Total</th>\n",
       "      <td>4.0</td>\n",
       "      <td>4.0</td>\n",
       "      <td>8.0</td>\n",
       "    </tr>\n",
       "  </tbody>\n",
       "</table>\n",
       "</div>"
      ],
      "text/plain": [
       "              Guess Milk  Guess Tea  Row Total\n",
       "Milk                 4.0        0.0        4.0\n",
       "Tea                  0.0        4.0        4.0\n",
       "Column Total         4.0        4.0        8.0"
      ]
     },
     "execution_count": 22,
     "metadata": {},
     "output_type": "execute_result"
    }
   ],
   "source": [
    "df2=df.copy()\n",
    "df2.loc['Column Total']= df2.sum(numeric_only=True, axis=0)\n",
    "df2.loc[:,'Row Total'] = df2.sum(numeric_only=True, axis=1)\n",
    "df2"
   ]
  },
  {
   "cell_type": "code",
   "execution_count": 23,
   "id": "e0e5012c",
   "metadata": {},
   "outputs": [
    {
     "data": {
      "text/html": [
       "<div>\n",
       "<style scoped>\n",
       "    .dataframe tbody tr th:only-of-type {\n",
       "        vertical-align: middle;\n",
       "    }\n",
       "\n",
       "    .dataframe tbody tr th {\n",
       "        vertical-align: top;\n",
       "    }\n",
       "\n",
       "    .dataframe thead th {\n",
       "        text-align: right;\n",
       "    }\n",
       "</style>\n",
       "<table border=\"1\" class=\"dataframe\">\n",
       "  <thead>\n",
       "    <tr style=\"text-align: right;\">\n",
       "      <th></th>\n",
       "      <th>Guess Milk</th>\n",
       "      <th>Guess Tea</th>\n",
       "      <th>Row Total</th>\n",
       "    </tr>\n",
       "  </thead>\n",
       "  <tbody>\n",
       "    <tr>\n",
       "      <th>Milk</th>\n",
       "      <td>2.0</td>\n",
       "      <td>2.0</td>\n",
       "      <td>4.0</td>\n",
       "    </tr>\n",
       "    <tr>\n",
       "      <th>Tea</th>\n",
       "      <td>2.0</td>\n",
       "      <td>2.0</td>\n",
       "      <td>4.0</td>\n",
       "    </tr>\n",
       "    <tr>\n",
       "      <th>Column Total</th>\n",
       "      <td>4.0</td>\n",
       "      <td>4.0</td>\n",
       "      <td>8.0</td>\n",
       "    </tr>\n",
       "  </tbody>\n",
       "</table>\n",
       "</div>"
      ],
      "text/plain": [
       "              Guess Milk  Guess Tea  Row Total\n",
       "Milk                 2.0        2.0        4.0\n",
       "Tea                  2.0        2.0        4.0\n",
       "Column Total         4.0        4.0        8.0"
      ]
     },
     "execution_count": 23,
     "metadata": {},
     "output_type": "execute_result"
    }
   ],
   "source": [
    "n=df2.at[\"Column Total\", \"Row Total\"]  # grand total \n",
    "\n",
    "exp=df2.copy()               # create dataframe with expected frequencies\n",
    "for x in exp.index[0:-1]:\n",
    "    for y in exp.columns[0:-1]:\n",
    "        # round expected values to nearest hundredths:\n",
    "        v= (((df2.at[x, \"Row Total\"]) * (df2.at[\"Column Total\", y])   )   /n ).round(2) \n",
    "        exp.at[x,y]=float(v)\n",
    "\n",
    "exp"
   ]
  },
  {
   "cell_type": "code",
   "execution_count": 24,
   "id": "633a663f",
   "metadata": {},
   "outputs": [
    {
     "data": {
      "text/plain": [
       "0.22857142857142856"
      ]
     },
     "execution_count": 24,
     "metadata": {},
     "output_type": "execute_result"
    }
   ],
   "source": [
    "def p(a): \n",
    "    v=(scipy.special.binom(int(df2.iloc[0,2]), a) * scipy.special.binom(int(df2.iloc[1,2]), (int(df2.iloc[2,0])-a)) )/scipy.special.binom(n, int(df2.iloc[2,0]))\n",
    "    return v\n",
    "\n",
    "p(1) # if we try \"a=1\" we get the following probability ... "
   ]
  },
  {
   "cell_type": "code",
   "execution_count": 25,
   "id": "da3b5d08",
   "metadata": {},
   "outputs": [
    {
     "data": {
      "text/plain": [
       "0.0"
      ]
     },
     "execution_count": 25,
     "metadata": {},
     "output_type": "execute_result"
    }
   ],
   "source": [
    "p_observed=p(7) # In our contingency table, a was equal to 7.\n",
    "\n",
    "p_list=[]\n",
    "for i in range(int(df2.iloc[0,2])  + 1  ): # calculate p(a) for every possible table we can get given the fixed margins...\n",
    "#... this ranges from \"9 choose 0\" to \"9 choose 9\" so we should get 10 possible tables and their respective probabilities..\n",
    "    if p(i)<=p_observed:\n",
    "        p_list.append(p(i))     # append these probabilites to p_list only if <= p_observed\n",
    "        \n",
    "p_val=np.sum(p_list) # the sum of this list corresponds to the p-value \n",
    "p_val "
   ]
  },
  {
   "cell_type": "code",
   "execution_count": 26,
   "id": "e36d7ccc",
   "metadata": {},
   "outputs": [
    {
     "data": {
      "text/plain": [
       "0.028571428571428536"
      ]
     },
     "execution_count": 26,
     "metadata": {},
     "output_type": "execute_result"
    }
   ],
   "source": [
    "oddsratio, pvalue = ss.fisher_exact([[4, 0],[0, 4]])  \n",
    "pvalue"
   ]
  },
  {
   "cell_type": "markdown",
   "id": "4c06e95e",
   "metadata": {},
   "source": [
    "### Scipy\n",
    "\n",
    "\n",
    "Scipy is an additional package for statical analysis with scipy.stats being an sub-package. The main purpose of this package is to show probability distributions and statical processes. It contains functions for either continuous or discreet variables with bionamial, uniform and continous distributions. https://data-flair.training/blogs/scipy-statistical-functions/"
   ]
  },
  {
   "cell_type": "markdown",
   "id": "ee6da586",
   "metadata": {},
   "source": [
    "### Excercise 1.2\n",
    "\n",
    "---\n",
    "Take the code from the Examples section of the scipy stats documentation for independent samples t-tests, add it to your own notebook and add explain how it works using MarkDown cells and code comments. Improve it in any way you think it could be improved."
   ]
  },
  {
   "cell_type": "markdown",
   "id": "0c3d931a",
   "metadata": {},
   "source": [
    "### What is a T-Test?\n",
    "\n",
    "---\n",
    "\n",
    "Also known as a Student test is used to for estimating the means of one or two populations using hypothesis testing. It can help evaluate one single group or two groups whether they are independnt or not. https://www.jmp.com/en_ch/statistics-knowledge-portal/t-test.html\n"
   ]
  },
  {
   "cell_type": "markdown",
   "id": "b7a16d57",
   "metadata": {},
   "source": [
    "The purpose of a T-Test\n",
    "\n",
    "- Is there a significant difference between two sets of data?"
   ]
  }
 ],
 "metadata": {
  "kernelspec": {
   "display_name": "Python 3",
   "language": "python",
   "name": "python3"
  },
  "language_info": {
   "codemirror_mode": {
    "name": "ipython",
    "version": 3
   },
   "file_extension": ".py",
   "mimetype": "text/x-python",
   "name": "python",
   "nbconvert_exporter": "python",
   "pygments_lexer": "ipython3",
   "version": "3.8.8"
  }
 },
 "nbformat": 4,
 "nbformat_minor": 5
}
